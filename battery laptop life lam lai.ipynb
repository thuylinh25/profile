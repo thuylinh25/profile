{
 "cells": [
  {
   "cell_type": "code",
   "execution_count": 111,
   "metadata": {
    "collapsed": true
   },
   "outputs": [],
   "source": [
    "import numpy as np\n",
    "from sklearn.linear_model import LinearRegression\n",
    "\n",
    "data = open('training.txt','r')\n",
    "dataFile = data.readlines()\n",
    "timecharged = []\n",
    "timelast = []\n",
    "for line in dataFile:\n",
    "    line = line.strip()\n",
    "    line = line.split(',')\n",
    "    timecharged.append(float(line[0]))\n",
    "    timelast.append(float(line[1]))\n"
   ]
  },
  {
   "cell_type": "code",
   "execution_count": 112,
   "outputs": [],
   "source": [
    "maxIndex=[]\n",
    "feats=[]\n",
    "for x in range(len(timelast)): #This loop returns a list of all indexes where laptop is fully charged\n",
    "    if timelast[x]==8.0:\n",
    "        maxIndex.append(x)\n",
    "\n",
    "for idx in maxIndex:\n",
    "    feats.append(timecharged[idx]) #Gets a list of all charge times resulting in fully charged laptop\n",
    "\n",
    "min_c_time=min(feats) #This is the minimum charge time for the laptop to be fully charged"
   ],
   "metadata": {
    "collapsed": false,
    "pycharm": {
     "name": "#%%\n"
    }
   }
  },
  {
   "cell_type": "code",
   "execution_count": 113,
   "outputs": [],
   "source": [
    "linFeats=[]\n",
    "idxlinFeats=[]\n",
    "linTargets=[]\n",
    "for idxFeat in range(len(timecharged)):\n",
    "    feat=timecharged[idxFeat]\n",
    "    if feat<min_c_time:\n",
    "        linFeats.append(feat) #Returns a list of all linearly correlated values\n",
    "        idxlinFeats.append(idxFeat) #Returns a list of all indexes of linearly correlated values\n",
    "for idx in idxlinFeats:\n",
    "    linTargets.append(timelast[idx]) #Returns a list of all linearly correlated targets\n",
    "linFeats = np.array(linFeats)\n",
    "linFeats = linFeats.reshape(-1,1)\n",
    "linTargets = np.array(linTargets)\n",
    "linTargets = linTargets.reshape(-1, 1)"
   ],
   "metadata": {
    "collapsed": false,
    "pycharm": {
     "name": "#%%\n"
    }
   }
  },
  {
   "cell_type": "code",
   "execution_count": 114,
   "outputs": [
    {
     "data": {
      "text/plain": "array([3.])"
     },
     "execution_count": 114,
     "metadata": {},
     "output_type": "execute_result"
    }
   ],
   "source": [
    "test = float(input())\n",
    "linModel=LinearRegression()\n",
    "linModel.fit(linFeats,linTargets)\n",
    "prediction=linModel.predict([[test]])\n",
    "prediction=prediction[0]\n",
    "if prediction>8.0:\n",
    "    prediction=8.0\n",
    "prediction"
   ],
   "metadata": {
    "collapsed": false,
    "pycharm": {
     "name": "#%%\n"
    }
   }
  },
  {
   "cell_type": "code",
   "execution_count": 115,
   "outputs": [
    {
     "name": "stdout",
     "output_type": "stream",
     "text": [
      "float64\n"
     ]
    }
   ],
   "source": [
    "print (prediction.dtype)"
   ],
   "metadata": {
    "collapsed": false,
    "pycharm": {
     "name": "#%%\n"
    }
   }
  }
 ],
 "metadata": {
  "kernelspec": {
   "display_name": "Python 3",
   "language": "python",
   "name": "python3"
  },
  "language_info": {
   "codemirror_mode": {
    "name": "ipython",
    "version": 2
   },
   "file_extension": ".py",
   "mimetype": "text/x-python",
   "name": "python",
   "nbconvert_exporter": "python",
   "pygments_lexer": "ipython2",
   "version": "2.7.6"
  }
 },
 "nbformat": 4,
 "nbformat_minor": 0
}